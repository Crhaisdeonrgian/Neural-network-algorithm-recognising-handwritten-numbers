{
 "cells": [
  {
   "cell_type": "code",
   "execution_count": 20,
   "metadata": {},
   "outputs": [],
   "source": [
    "import numpy\n",
    "import scipy.special\n",
    "#определим класс нейронной сети\n",
    "class neuralNetwork:\n",
    "    #инициализация\n",
    "    def __init__(self, inputnodes, hiddennodes, outputnodes, learningrate):\n",
    "        #количество узлов\n",
    "        self.inodes=inputnodes\n",
    "        self.hnodes=hiddennodes\n",
    "        self.onodes=outputnodes\n",
    "        #коэффициент обучения\n",
    "        self.lr=learningrate\n",
    "         #матрицы весов между входом и скрытым и между скрытым и выходом\n",
    "        self.wih=numpy.random.normal(0.0,pow(self.inodes,-0,5),(self.hnodes, self.inodes))\n",
    "        self.who=numpy.random.normal(0.0,pow(self.hnodes,-0,5),(self.onodes, self.hnodes))\n",
    "        #определим функцию активации как сигмоиду\n",
    "        self.activation_function=lambda x: scipy.special.expit(x)\n",
    "        \n",
    "        pass\n",
    "    #тренировка сети\n",
    "    def train(self,inputs_list, targets_list):\n",
    "        #преобразуем список входных значений в двумерный массив\n",
    "        inputs=numpy.array(inputs_list, ndmin=2).T\n",
    "        targets=numpy.array(targets_list, ndmin=2).T\n",
    "        #входящие сигналы для скрытого слоя\n",
    "        hidden_inputs=numpy.dot(self.wih, inputs)\n",
    "        #исхоящие сигналы для скрытого слоя\n",
    "        hidden_outputs=self.activation_function(hidden_inputs)\n",
    "        #входящие сигналы для выходного слоя\n",
    "        final_inputs=numpy.dot(self.who,hidden_outputs)\n",
    "        #исходящие сигналы для выходного слоя\n",
    "        final_outputs=self.activation_function(final_inputs)\n",
    "        \n",
    "        #ошибка выходного слоя=целевое значение -фактическое значение\n",
    "        output_errors=targets-final_outputs\n",
    "        #ошибка скрытого слоя = вес^т*ошибки\n",
    "        hidden_errors=numpy.dot(self.who.T, output_errors)\n",
    "        #обновим весовые коэффициенты связей между скрытым и выходным слоями \n",
    "        self.who+=self.lr*numpy.dot((output_errors*final_outputs*(1.0-final_outputs)),numpy.transpose(hidden_outputs))\n",
    "        self.wih+=self.lr*numpy.dot((hidden_errors*hidden_outputs*(1.0-hidden_outputs)),numpy.transpose(inputs))\n",
    "        pass\n",
    "    #опрос сети\n",
    "    def query(self, inputs_list):\n",
    "        #преобразуем список входных значений в двумерный массив\n",
    "        inputs=numpy.array(inputs_list, ndmin=2).T\n",
    "        \n",
    "        #входящие сигналы для скрытого слоя\n",
    "        hidden_inputs=numpy.dot(self.wih, inputs)\n",
    "        #исхоящие сигналы для скрытого слоя\n",
    "        hidden_outputs=self.activation_function(hidden_inputs)\n",
    "        #входящие сигналы для выходного слоя\n",
    "        final_inputs=numpy.dot(self.who,hidden_outputs)\n",
    "        #исходящие сигналы для выходного слоя\n",
    "        final_outputs=self.activation_function(final_inputs)\n",
    "        return final_outputs\n",
    "        \n",
    "        pass\n",
    "   "
   ]
  },
  {
   "cell_type": "code",
   "execution_count": 39,
   "metadata": {},
   "outputs": [],
   "source": [
    "#создадим экземпляр сети с параметрами 3 3 3 0,3\n",
    "i_n=3\n",
    "h_n=3\n",
    "o_n=1\n",
    "l_r=0,3\n",
    "n=neuralNetwork(i_n, h_n, o_n, l_r)"
   ]
  },
  {
   "cell_type": "code",
   "execution_count": 40,
   "metadata": {},
   "outputs": [
    {
     "data": {
      "text/plain": [
       "array([[0.74450156]])"
      ]
     },
     "execution_count": 40,
     "metadata": {},
     "output_type": "execute_result"
    }
   ],
   "source": [
    "n.query([1.0,2.0,3.0])"
   ]
  },
  {
   "cell_type": "code",
   "execution_count": 42,
   "metadata": {},
   "outputs": [
    {
     "ename": "ValueError",
     "evalue": "operands could not be broadcast together with shapes (2,) (1,3) ",
     "output_type": "error",
     "traceback": [
      "\u001b[0;31m---------------------------------------------------------------------------\u001b[0m",
      "\u001b[0;31mValueError\u001b[0m                                Traceback (most recent call last)",
      "\u001b[0;32m<ipython-input-42-4e5659da4ea8>\u001b[0m in \u001b[0;36m<module>\u001b[0;34m\u001b[0m\n\u001b[0;32m----> 1\u001b[0;31m \u001b[0mn\u001b[0m\u001b[0;34m.\u001b[0m\u001b[0mtrain\u001b[0m\u001b[0;34m(\u001b[0m\u001b[0;34m[\u001b[0m\u001b[0;36m1.0\u001b[0m\u001b[0;34m,\u001b[0m\u001b[0;36m2.0\u001b[0m\u001b[0;34m,\u001b[0m\u001b[0;36m3.0\u001b[0m\u001b[0;34m]\u001b[0m\u001b[0;34m,\u001b[0m\u001b[0;36m1.0\u001b[0m\u001b[0;34m)\u001b[0m\u001b[0;34m\u001b[0m\u001b[0;34m\u001b[0m\u001b[0m\n\u001b[0m",
      "\u001b[0;32m<ipython-input-20-9b0985c3798a>\u001b[0m in \u001b[0;36mtrain\u001b[0;34m(self, inputs_list, targets_list)\u001b[0m\n\u001b[1;32m     39\u001b[0m         \u001b[0mhidden_errors\u001b[0m\u001b[0;34m=\u001b[0m\u001b[0mnumpy\u001b[0m\u001b[0;34m.\u001b[0m\u001b[0mdot\u001b[0m\u001b[0;34m(\u001b[0m\u001b[0mself\u001b[0m\u001b[0;34m.\u001b[0m\u001b[0mwho\u001b[0m\u001b[0;34m.\u001b[0m\u001b[0mT\u001b[0m\u001b[0;34m,\u001b[0m \u001b[0moutput_errors\u001b[0m\u001b[0;34m)\u001b[0m\u001b[0;34m\u001b[0m\u001b[0;34m\u001b[0m\u001b[0m\n\u001b[1;32m     40\u001b[0m         \u001b[0;31m#обновим весовые коэффициенты связей между скрытым и выходным слоями\u001b[0m\u001b[0;34m\u001b[0m\u001b[0;34m\u001b[0m\u001b[0;34m\u001b[0m\u001b[0m\n\u001b[0;32m---> 41\u001b[0;31m         \u001b[0mself\u001b[0m\u001b[0;34m.\u001b[0m\u001b[0mwho\u001b[0m\u001b[0;34m+=\u001b[0m\u001b[0mself\u001b[0m\u001b[0;34m.\u001b[0m\u001b[0mlr\u001b[0m\u001b[0;34m*\u001b[0m\u001b[0mnumpy\u001b[0m\u001b[0;34m.\u001b[0m\u001b[0mdot\u001b[0m\u001b[0;34m(\u001b[0m\u001b[0;34m(\u001b[0m\u001b[0moutput_errors\u001b[0m\u001b[0;34m*\u001b[0m\u001b[0mfinal_outputs\u001b[0m\u001b[0;34m*\u001b[0m\u001b[0;34m(\u001b[0m\u001b[0;36m1.0\u001b[0m\u001b[0;34m-\u001b[0m\u001b[0mfinal_outputs\u001b[0m\u001b[0;34m)\u001b[0m\u001b[0;34m)\u001b[0m\u001b[0;34m,\u001b[0m\u001b[0mnumpy\u001b[0m\u001b[0;34m.\u001b[0m\u001b[0mtranspose\u001b[0m\u001b[0;34m(\u001b[0m\u001b[0mhidden_outputs\u001b[0m\u001b[0;34m)\u001b[0m\u001b[0;34m)\u001b[0m\u001b[0;34m\u001b[0m\u001b[0;34m\u001b[0m\u001b[0m\n\u001b[0m\u001b[1;32m     42\u001b[0m         \u001b[0mself\u001b[0m\u001b[0;34m.\u001b[0m\u001b[0mwih\u001b[0m\u001b[0;34m+=\u001b[0m\u001b[0mself\u001b[0m\u001b[0;34m.\u001b[0m\u001b[0mlr\u001b[0m\u001b[0;34m*\u001b[0m\u001b[0mnumpy\u001b[0m\u001b[0;34m.\u001b[0m\u001b[0mdot\u001b[0m\u001b[0;34m(\u001b[0m\u001b[0;34m(\u001b[0m\u001b[0mhidden_errors\u001b[0m\u001b[0;34m*\u001b[0m\u001b[0mhidden_outputs\u001b[0m\u001b[0;34m*\u001b[0m\u001b[0;34m(\u001b[0m\u001b[0;36m1.0\u001b[0m\u001b[0;34m-\u001b[0m\u001b[0mhidden_outputs\u001b[0m\u001b[0;34m)\u001b[0m\u001b[0;34m)\u001b[0m\u001b[0;34m,\u001b[0m\u001b[0mnumpy\u001b[0m\u001b[0;34m.\u001b[0m\u001b[0mtranspose\u001b[0m\u001b[0;34m(\u001b[0m\u001b[0minputs\u001b[0m\u001b[0;34m)\u001b[0m\u001b[0;34m)\u001b[0m\u001b[0;34m\u001b[0m\u001b[0;34m\u001b[0m\u001b[0m\n\u001b[1;32m     43\u001b[0m         \u001b[0;32mpass\u001b[0m\u001b[0;34m\u001b[0m\u001b[0;34m\u001b[0m\u001b[0m\n",
      "\u001b[0;31mValueError\u001b[0m: operands could not be broadcast together with shapes (2,) (1,3) "
     ]
    }
   ],
   "source": [
    "n.train([1.0,2.0,3.0],1.0)"
   ]
  },
  {
   "cell_type": "raw",
   "metadata": {},
   "source": []
  },
  {
   "cell_type": "code",
   "execution_count": null,
   "metadata": {},
   "outputs": [],
   "source": []
  }
 ],
 "metadata": {
  "kernelspec": {
   "display_name": "Python 3",
   "language": "python",
   "name": "python3"
  },
  "language_info": {
   "codemirror_mode": {
    "name": "ipython",
    "version": 3
   },
   "file_extension": ".py",
   "mimetype": "text/x-python",
   "name": "python",
   "nbconvert_exporter": "python",
   "pygments_lexer": "ipython3",
   "version": "3.7.1"
  }
 },
 "nbformat": 4,
 "nbformat_minor": 2
}
